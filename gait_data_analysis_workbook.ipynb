{
 "cells": [
  {
   "cell_type": "markdown",
   "id": "64d3f70d",
   "metadata": {},
   "source": [
    "# Gait Data Analysis Pipeline  \n",
    "Load gait‐parameter CSVs and reference data, merge & compare them, compute RMSE and save the data as a excel file.\n"
   ]
  },
  {
   "cell_type": "code",
   "execution_count": null,
   "id": "109e915a",
   "metadata": {},
   "outputs": [],
   "source": [
    "import os\n",
    "import pandas as pd\n",
    "import numpy as np\n",
    "import matplotlib.pyplot as plt\n",
    "from matplotlib import cm\n",
    "import scipy.stats as stats\n",
    "import plotly.express as px\n",
    "import plotly.graph_objects as go\n",
    "\n",
    "from ipywidgets import widgets, Output\n",
    "from IPython.display import display\n",
    "\n",
    "# --- Settings ---\n",
    "trials = [f\"TEST-{chr(c)}\" for c in range(65, 77)]  # TEST-A to TEST-L\n",
    "base_path = \"/path/to/trials\"  # root folder\n",
    "output_file = os.path.join(base_path, \"gait_analysis_results.xlsx\")"
   ]
  },
  {
   "cell_type": "markdown",
   "id": "6fa04d2b",
   "metadata": {},
   "source": [
    "## 1. Load Algorithm CSVs"
   ]
  },
  {
   "cell_type": "code",
   "execution_count": null,
   "id": "10263cf6",
   "metadata": {},
   "outputs": [],
   "source": [
    "# Step 1: Read per-trial CSVs into algo_data dict\n",
    "algo_data = {}\n",
    "for trial in trials:\n",
    "    csv_path = os.path.join(base_path, trial, \"Results\", \"Figures\", f\"{trial}_parameters.csv\")\n",
    "    try:\n",
    "        df = pd.read_csv(csv_path, header=[0,1])\n",
    "        # clean, re-index...\n",
    "        algo_data[trial] = df\n",
    "    except FileNotFoundError:\n",
    "        print(f\"CSV missing for {trial}\")\n"
   ]
  },
  {
   "cell_type": "markdown",
   "id": "c7020c52",
   "metadata": {},
   "source": [
    "## 2. Load Reference (Awinda) Excel Summaries"
   ]
  },
  {
   "cell_type": "code",
   "execution_count": null,
   "id": "929bcddc",
   "metadata": {},
   "outputs": [],
   "source": [
    "# Step 2: Read per-trial Excel into ref_data dict\n",
    "ref_data = {}\n",
    "for trial in trials:\n",
    "    xls_path = os.path.join(base_path, trial, \"Awinda Summarized.xlsx\")\n",
    "    try:\n",
    "        df = pd.read_excel(xls_path, header=[1,2,3], index_col=0)\n",
    "        # clean, stack, filter mean...\n",
    "        ref_data[trial] = df\n",
    "    except FileNotFoundError:\n",
    "        print(f\"Excel missing for {trial}\")\n"
   ]
  },
  {
   "cell_type": "markdown",
   "id": "70ffd6fd",
   "metadata": {},
   "source": [
    "## 3. Merge Algorithm Data and Reference Data\n"
   ]
  },
  {
   "cell_type": "code",
   "execution_count": null,
   "id": "2d19d625",
   "metadata": {},
   "outputs": [],
   "source": [
    "# Step 3: For each trial, merge algo_data[trial] with ref_data[trial]\n",
    "merged_list = []\n",
    "for trial in trials:\n",
    "    if trial in algo_data and trial in ref_data:\n",
    "        df_a = algo_data[trial]  # reset_index, filter bilateral\n",
    "        df_r = ref_data[trial]\n",
    "        df_m = pd.merge(df_r, df_a, on=['Trial','Task','Foot'], suffixes=('_ref','_algo'))\n",
    "        merged_list.append((trial, df_a, df_r, df_m))\n"
   ]
  },
  {
   "cell_type": "markdown",
   "id": "04300848",
   "metadata": {},
   "source": [
    "## 4. Compute RMSE Summary"
   ]
  },
  {
   "cell_type": "code",
   "execution_count": null,
   "id": "3f452b4a",
   "metadata": {},
   "outputs": [],
   "source": [
    "# Step 4: Concatenate all merges and compute task-level RMSE\n",
    "all_merged = pd.concat([m for _,_,_,m in merged_list], ignore_index=True)\n",
    "df_bi = all_merged[all_merged['Foot']=='bilateral']\n",
    "gait_params = ['cadence','stance_time','swing_time', 'stride_length', 'stride_width']\n",
    "rmse_df = pd.DataFrame(index=df_bi['Task'].unique(), columns=gait_params)\n",
    "\n",
    "for p in gait_params:\n",
    "    x = df_bi[f\"{p}_mean_ref\"]\n",
    "    y = df_bi[f\"{p}_mean_algo\"]\n",
    "    rmse_df[p] = np.sqrt(((x-y)**2).groupby(df_bi['Task']).mean())\n",
    "rmse_df['n_trials'] = df_bi.groupby('Task').size()\n"
   ]
  },
  {
   "cell_type": "markdown",
   "id": "cf74a350",
   "metadata": {},
   "source": [
    "## 5. Export to Excel Workbook"
   ]
  },
  {
   "cell_type": "code",
   "execution_count": null,
   "id": "3c62b3f0",
   "metadata": {},
   "outputs": [],
   "source": [
    "# Step 5: Save each sheet into a single .xlsx\n",
    "with pd.ExcelWriter(output_file, engine='xlsxwriter') as writer:\n",
    "    for trial, df_a, df_r, df_m in merged_list:\n",
    "        df_a.to_excel(writer, sheet_name=f\"{trial}_algo\")\n",
    "        df_r.to_excel(writer, sheet_name=f\"{trial}_ref\", index=False)\n",
    "        df_m.to_excel(writer, sheet_name=f\"{trial}_merged\", index=False)\n",
    "    all_merged.to_excel(writer, sheet_name=\"All_Merged\", index=False)\n",
    "    rmse_df.to_excel(writer, sheet_name=\"RMSE_Summary\")\n",
    "print(\"Workbook saved:\", output_file)\n"
   ]
  }
 ],
 "metadata": {
  "language_info": {
   "name": "python"
  }
 },
 "nbformat": 4,
 "nbformat_minor": 5
}
